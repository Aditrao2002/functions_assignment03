{
  "cells": [
    {
      "cell_type": "markdown",
      "metadata": {
        "id": "view-in-github",
        "colab_type": "text"
      },
      "source": [
        "<a href=\"https://colab.research.google.com/github/Aditrao2002/functions_assignment03/blob/main/Welcome_To_Colab.ipynb\" target=\"_parent\"><img src=\"https://colab.research.google.com/assets/colab-badge.svg\" alt=\"Open In Colab\"/></a>"
      ]
    },
    {
      "cell_type": "code",
      "source": [
        "#Q.1\n",
        "def sum_of_even_numbers(numbers):\n",
        "    return sum(number for number in numbers if number % 2 == 0)\n",
        "\n",
        "# Example usage\n",
        "nums = [1, 2, 3, 4, 5, 6]\n",
        "print(sum_of_even_numbers(nums))  # Output: 12\n"
      ],
      "metadata": {
        "colab": {
          "base_uri": "https://localhost:8080/"
        },
        "id": "V_MEgyFTH6Mg",
        "outputId": "76aa6166-7947-43b1-f360-86f249ece478"
      },
      "execution_count": 22,
      "outputs": [
        {
          "output_type": "stream",
          "name": "stdout",
          "text": [
            "12\n"
          ]
        }
      ]
    },
    {
      "cell_type": "code",
      "source": [
        "#Q.2\n",
        "def reverse_string(s):\n",
        "    return s[::-1]\n",
        "\n",
        "# Example usage\n",
        "print(reverse_string(\"hello\"))  # Output: \"olleh\"\n"
      ],
      "metadata": {
        "colab": {
          "base_uri": "https://localhost:8080/"
        },
        "id": "EVG49qA5IAV1",
        "outputId": "1649aec8-922a-47b8-af3f-e01c3d8229f5"
      },
      "execution_count": 23,
      "outputs": [
        {
          "output_type": "stream",
          "name": "stdout",
          "text": [
            "olleh\n"
          ]
        }
      ]
    },
    {
      "cell_type": "code",
      "source": [
        "#Q.3\n",
        "def square_numbers(numbers):\n",
        "    return [x ** 2 for x in numbers]\n",
        "\n",
        "# Example usage\n",
        "nums = [1, 2, 3, 4]\n",
        "print(square_numbers(nums))  # Output: [1, 4, 9, 16]\n"
      ],
      "metadata": {
        "colab": {
          "base_uri": "https://localhost:8080/"
        },
        "id": "P1zgfuUWIPCq",
        "outputId": "10eb3aa8-ac02-4c8f-f6af-232389635755"
      },
      "execution_count": 24,
      "outputs": [
        {
          "output_type": "stream",
          "name": "stdout",
          "text": [
            "[1, 4, 9, 16]\n"
          ]
        }
      ]
    },
    {
      "cell_type": "code",
      "source": [
        "#Q4\n",
        "def is_prime(n):\n",
        "    if n < 2:\n",
        "        return False\n",
        "    for i in range(2, int(n ** 0.5) + 1):\n",
        "        if n % i == 0:\n",
        "            return False\n",
        "    return True\n",
        "\n",
        "# Example usage: Check all primes between 1 and 200\n",
        "primes = [n for n in range(1, 201) if is_prime(n)]\n",
        "print(primes)  # Output: List of prime numbers from 1 to 200\n"
      ],
      "metadata": {
        "colab": {
          "base_uri": "https://localhost:8080/"
        },
        "id": "2JE8Fq9uIeSt",
        "outputId": "8f5c5085-3eae-4067-e8f6-6e6ae68d4778"
      },
      "execution_count": 25,
      "outputs": [
        {
          "output_type": "stream",
          "name": "stdout",
          "text": [
            "[2, 3, 5, 7, 11, 13, 17, 19, 23, 29, 31, 37, 41, 43, 47, 53, 59, 61, 67, 71, 73, 79, 83, 89, 97, 101, 103, 107, 109, 113, 127, 131, 137, 139, 149, 151, 157, 163, 167, 173, 179, 181, 191, 193, 197, 199]\n"
          ]
        }
      ]
    },
    {
      "cell_type": "code",
      "source": [
        "#Q.5\n",
        "class FibonacciIterator:\n",
        "    def __init__(self, max_terms):\n",
        "        self.max_terms = max_terms\n",
        "        self.a, self.b = 0, 1\n",
        "        self.count = 0\n",
        "\n",
        "    def __iter__(self):\n",
        "        return self\n",
        "\n",
        "    def __next__(self):\n",
        "        if self.count >= self.max_terms:\n",
        "            raise StopIteration\n",
        "        fib = self.a\n",
        "        self.a, self.b = self.b, self.a + self.b\n",
        "        self.count += 1\n",
        "        return fib\n",
        "\n",
        "# Example usage\n",
        "fib_iter = FibonacciIterator(10)\n",
        "for num in fib_iter:\n",
        "    print(num, end=\" \")  # Output: Fibonacci sequence\n"
      ],
      "metadata": {
        "colab": {
          "base_uri": "https://localhost:8080/"
        },
        "id": "HF1N3lbUIsXe",
        "outputId": "25991e69-90d0-4bb9-bb4d-0e6b47e5bdc7"
      },
      "execution_count": 26,
      "outputs": [
        {
          "output_type": "stream",
          "name": "stdout",
          "text": [
            "0 1 1 2 3 5 8 13 21 34 "
          ]
        }
      ]
    },
    {
      "cell_type": "code",
      "source": [
        "#Q.6\n",
        "def powers_of_two(max_exp):\n",
        "    for exp in range(max_exp + 1):\n",
        "        yield 2 ** exp\n",
        "\n",
        "# Example usage\n",
        "for power in powers_of_two(5):\n",
        "    print(power)  # Output: 1, 2, 4, 8, 16, 32\n"
      ],
      "metadata": {
        "colab": {
          "base_uri": "https://localhost:8080/"
        },
        "id": "V5bay7JOIw40",
        "outputId": "d5c8317e-e5d2-4168-96bf-56ee16f9b61e"
      },
      "execution_count": 27,
      "outputs": [
        {
          "output_type": "stream",
          "name": "stdout",
          "text": [
            "1\n",
            "2\n",
            "4\n",
            "8\n",
            "16\n",
            "32\n"
          ]
        }
      ]
    },
    {
      "cell_type": "code",
      "source": [
        "#Q7\n",
        "def read_file_line_by_line(file_path):\n",
        "    with open(file_path, 'r') as file:\n",
        "        for line in file:\n",
        "            yield line.strip()\n",
        "\n",
        "# Example usage\n",
        " for line in read_file_line_by_line('example.txt'):\n",
        "     print(line)\n"
      ],
      "metadata": {
        "colab": {
          "base_uri": "https://localhost:8080/",
          "height": 106
        },
        "id": "svxADzzMI2jO",
        "outputId": "b847ad36-3b3a-455d-e689-f6b728b7dde3"
      },
      "execution_count": 32,
      "outputs": [
        {
          "output_type": "error",
          "ename": "IndentationError",
          "evalue": "unindent does not match any outer indentation level (<tokenize>, line 7)",
          "traceback": [
            "\u001b[0;36m  File \u001b[0;32m\"<tokenize>\"\u001b[0;36m, line \u001b[0;32m7\u001b[0m\n\u001b[0;31m    for line in read_file_line_by_line('example.txt'):\u001b[0m\n\u001b[0m    ^\u001b[0m\n\u001b[0;31mIndentationError\u001b[0m\u001b[0;31m:\u001b[0m unindent does not match any outer indentation level\n"
          ]
        }
      ]
    },
    {
      "cell_type": "code",
      "source": [
        "#Q.8\n",
        "tuples_list = [(1, 'a'), (3, 'c'), (2, 'b')]\n",
        "sorted_list = sorted(tuples_list, key=lambda x: x[1])\n",
        "\n",
        "# Example usage\n",
        "print(sorted_list)  # Output: [(1, 'a'), (2, 'b'), (3, 'c')]\n"
      ],
      "metadata": {
        "colab": {
          "base_uri": "https://localhost:8080/"
        },
        "id": "xoYBZ1GaJSKI",
        "outputId": "2fcc7ef9-4590-455f-8741-37435c48acf0"
      },
      "execution_count": 33,
      "outputs": [
        {
          "output_type": "stream",
          "name": "stdout",
          "text": [
            "[(1, 'a'), (2, 'b'), (3, 'c')]\n"
          ]
        }
      ]
    },
    {
      "cell_type": "code",
      "source": [
        "#Q.9\n",
        "def celsius_to_fahrenheit(celsius_list):\n",
        "    return list(map(lambda c: (c * 9/5) + 32, celsius_list))\n",
        "\n",
        "# Example usage\n",
        "celsius = [0, 20, 30, 40]\n",
        "fahrenheit = celsius_to_fahrenheit(celsius)\n",
        "print(fahrenheit)  # Output: [32.0, 68.0, 86.0, 104.0]\n"
      ],
      "metadata": {
        "colab": {
          "base_uri": "https://localhost:8080/"
        },
        "id": "GB3fNcn7JYVE",
        "outputId": "e3eb5566-20da-4dd8-a449-0d500cfda357"
      },
      "execution_count": 34,
      "outputs": [
        {
          "output_type": "stream",
          "name": "stdout",
          "text": [
            "[32.0, 68.0, 86.0, 104.0]\n"
          ]
        }
      ]
    },
    {
      "cell_type": "code",
      "source": [
        "#Q.10\n",
        "def remove_vowels(s):\n",
        "    vowels = \"aeiouAEIOU\"\n",
        "    return ''.join(filter(lambda char: char not in vowels, s))\n",
        "\n",
        "# Example usage\n",
        "sentence = \"This is a test sentence.\"\n",
        "no_vowels = remove_vowels(sentence)\n",
        "print(no_vowels)  # Output: \"Ths s  tst sntnc.\"\n",
        "def remove_vowels(s):\n",
        "    vowels = \"aeiouAEIOU\"\n",
        "    return ''.join(filter(lambda char: char not in vowels, s))\n",
        "\n",
        "# Example usage\n",
        "sentence = \"This is a test sentence.\"\n",
        "no_vowels = remove_vowels(sentence)\n",
        "print(no_vowels)  # Output: \"Ths s  tst sntnc.\"\n"
      ],
      "metadata": {
        "colab": {
          "base_uri": "https://localhost:8080/"
        },
        "id": "13SmQ-EnJZCV",
        "outputId": "7328300d-8fed-4767-8f88-dff9aec80d62"
      },
      "execution_count": 35,
      "outputs": [
        {
          "output_type": "stream",
          "name": "stdout",
          "text": [
            "Ths s  tst sntnc.\n",
            "Ths s  tst sntnc.\n"
          ]
        }
      ]
    },
    {
      "cell_type": "code",
      "source": [
        "#Q.11\n",
        "# Sample list representing the bookshop orders (order number, price per item, quantity)\n",
        "orders = [\n",
        "    [34587, 4.50, 10],\n",
        "    [98762, 7.99, 5],\n",
        "    [77226, 3.49, 12],\n",
        "    [88112, 11.99, 2]\n",
        "]\n",
        "\n",
        "# Using map and lambda to return the required 2-tuple (order number, total cost)\n",
        "result = list(map(lambda x: (x[0], x[1] * x[2] if x[1] * x[2] >= 100 else x[1] * x[2] + 10), orders))\n",
        "\n",
        "print(result)\n",
        "#Explanation:\n",
        "#Each sublist consists of an order number, price per item, and quantity.\n",
        "#The lambda function computes the total price by multiplying the price per item with the quantity (x[1] * x[2]).\n",
        "#If the total price is less than 100, it adds an extra 10 to the value.\n",
        "#map applies the lambda function to each sublist, returning a list of tuples.\n",
        "\n",
        "\n",
        "\n",
        "\n",
        "\n"
      ],
      "metadata": {
        "id": "neIC8zReU85V",
        "outputId": "30fe965a-69c4-4d02-885a-acb85836d3dc",
        "colab": {
          "base_uri": "https://localhost:8080/"
        }
      },
      "execution_count": 36,
      "outputs": [
        {
          "output_type": "stream",
          "name": "stdout",
          "text": [
            "[(34587, 55.0), (98762, 49.95), (77226, 51.88), (88112, 33.980000000000004)]\n"
          ]
        }
      ]
    }
  ],
  "metadata": {
    "colab": {
      "name": "Welcome To Colab",
      "provenance": [],
      "include_colab_link": true
    },
    "kernelspec": {
      "display_name": "Python 3",
      "name": "python3"
    }
  },
  "nbformat": 4,
  "nbformat_minor": 0
}